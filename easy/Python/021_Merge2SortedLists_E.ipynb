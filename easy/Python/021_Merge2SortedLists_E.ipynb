{
 "cells": [
  {
   "cell_type": "code",
   "execution_count": null,
   "metadata": {},
   "outputs": [],
   "source": [
    "# Definition for singly-linked list.\n",
    "# class ListNode:\n",
    "#     def __init__(self, x):\n",
    "#         self.val = x\n",
    "#         self.next = None\n",
    "\n",
    "class Solution:\n",
    "    def mergeTwoLists(self, l1, l2):\n",
    "        \"\"\"\n",
    "        :type l1: ListNode\n",
    "        :type l2: ListNode\n",
    "        :rtype: ListNode\n",
    "        \"\"\"\n",
    "        mylist = ListNode(0)\n",
    "        cur = mylist\n",
    "        cur1 = l1\n",
    "        cur2 = l2\n",
    "        \n",
    "        while cur1 is not None and cur2 is not None:\n",
    "            if cur1.val > cur2.val:\n",
    "                cur.next = cur2\n",
    "                cur2 = cur2.next\n",
    "            else:\n",
    "                cur.next = cur1\n",
    "                cur1 = cur1.next\n",
    "            cur = cur.next\n",
    "            \n",
    "        if cur1 or cur2:\n",
    "            cur.next = cur1 or cur2\n",
    "            \n",
    "        return mylist.next"
   ]
  }
 ],
 "metadata": {
  "kernelspec": {
   "display_name": "Python 3",
   "language": "python",
   "name": "python3"
  },
  "language_info": {
   "codemirror_mode": {
    "name": "ipython",
    "version": 3
   },
   "file_extension": ".py",
   "mimetype": "text/x-python",
   "name": "python",
   "nbconvert_exporter": "python",
   "pygments_lexer": "ipython3",
   "version": "3.6.5"
  }
 },
 "nbformat": 4,
 "nbformat_minor": 2
}
