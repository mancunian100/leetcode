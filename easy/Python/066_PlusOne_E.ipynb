{
 "cells": [
  {
   "cell_type": "code",
   "execution_count": 32,
   "metadata": {},
   "outputs": [
    {
     "data": {
      "text/plain": [
       "[1, 0, 0, 0]"
      ]
     },
     "execution_count": 32,
     "metadata": {},
     "output_type": "execute_result"
    }
   ],
   "source": [
    "class Solution:\n",
    "    def plusOne(self, digits):\n",
    "        \"\"\"\n",
    "        :type digits: List[int]\n",
    "        :rtype: List[int]\n",
    "        \"\"\"\n",
    "        #################### Approach 1(40ms, 75%) ####################\n",
    "#         if digits == []:\n",
    "#             return [1]\n",
    "        \n",
    "#         if digits[-1] + 1 == 10:\n",
    "#             if len(digits) < 2:\n",
    "#                 digits.insert(0,1)\n",
    "#                 digits[-1] = 0\n",
    "#             else:\n",
    "#                 digits[-1] = 0\n",
    "#                 digits[0:-1] = self.plusOne(digits[0:-1])\n",
    "#         else:\n",
    "#             digits[-1] += 1\n",
    "#         return digits\n",
    "        \n",
    "        #################### Approach 2(40-50ms) ####################\n",
    "        if digits == []:\n",
    "            return [1]\n",
    "        \n",
    "        nums = ''\n",
    "        for i in digits:\n",
    "            nums += str(i)\n",
    "        nums = str(int(nums)+1)\n",
    "        digits = []\n",
    "        for i in nums:\n",
    "            digits.append(int(i))\n",
    "        return digits\n",
    "        \n",
    "        \n",
    "nums = [9,9,9]\n",
    "Solution().plusOne(nums)"
   ]
  },
  {
   "cell_type": "code",
   "execution_count": null,
   "metadata": {},
   "outputs": [],
   "source": []
  },
  {
   "cell_type": "code",
   "execution_count": null,
   "metadata": {},
   "outputs": [],
   "source": []
  }
 ],
 "metadata": {
  "kernelspec": {
   "display_name": "Python 3",
   "language": "python",
   "name": "python3"
  },
  "language_info": {
   "codemirror_mode": {
    "name": "ipython",
    "version": 3
   },
   "file_extension": ".py",
   "mimetype": "text/x-python",
   "name": "python",
   "nbconvert_exporter": "python",
   "pygments_lexer": "ipython3",
   "version": "3.6.5"
  }
 },
 "nbformat": 4,
 "nbformat_minor": 2
}
