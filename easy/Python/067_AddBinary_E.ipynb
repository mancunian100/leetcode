{
 "cells": [
  {
   "cell_type": "code",
   "execution_count": 33,
   "metadata": {},
   "outputs": [
    {
     "data": {
      "text/plain": [
       "'10101'"
      ]
     },
     "execution_count": 33,
     "metadata": {},
     "output_type": "execute_result"
    }
   ],
   "source": [
    "class Solution:\n",
    "    def addBinary(self, a, b):\n",
    "        \"\"\"\n",
    "        :type a: str\n",
    "        :type b: str\n",
    "        :rtype: str\n",
    "        \"\"\"\n",
    "        mysum = ''\n",
    "        la = len(a)\n",
    "        lb = len(b)\n",
    "        if lb < la:\n",
    "            a, b = b, a\n",
    "            la, lb = lb, la\n",
    "            \n",
    "        c = [0]\n",
    "        for i in b:\n",
    "            c.append('0')\n",
    "            \n",
    "        makeup = lb - la\n",
    "        for i in range(0, makeup):\n",
    "            a = '0' + a\n",
    "            \n",
    "        for i in range(0, lb):\n",
    "            count = 0\n",
    "            j = 0-1-i\n",
    "            p = int(a[j])+int(b[j])+int(c[j])\n",
    "            if p == 0:\n",
    "                c[j], c[j-1] = '0', '0'\n",
    "            elif p == 1:\n",
    "                c[j], c[j-1] = '1', '0'\n",
    "            elif p == 2:\n",
    "                c[j], c[j-1] = '0', '1'\n",
    "            else:\n",
    "                c[j], c[j-1] = '1', '1'\n",
    "        for i in c:\n",
    "            mysum = mysum + i\n",
    "        return str(int(mysum))\n",
    "            \n",
    "        \n",
    "a = \"1010\"\n",
    "b = \"1011\"\n",
    "Solution().addBinary(a,b)\n",
    "\n"
   ]
  },
  {
   "cell_type": "code",
   "execution_count": null,
   "metadata": {},
   "outputs": [],
   "source": []
  }
 ],
 "metadata": {
  "kernelspec": {
   "display_name": "Python 3",
   "language": "python",
   "name": "python3"
  },
  "language_info": {
   "codemirror_mode": {
    "name": "ipython",
    "version": 3
   },
   "file_extension": ".py",
   "mimetype": "text/x-python",
   "name": "python",
   "nbconvert_exporter": "python",
   "pygments_lexer": "ipython3",
   "version": "3.6.5"
  }
 },
 "nbformat": 4,
 "nbformat_minor": 2
}
