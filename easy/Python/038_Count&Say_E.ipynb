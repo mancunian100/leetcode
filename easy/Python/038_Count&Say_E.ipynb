{
 "cells": [
  {
   "cell_type": "code",
   "execution_count": 75,
   "metadata": {},
   "outputs": [
    {
     "data": {
      "text/plain": [
       "'312211'"
      ]
     },
     "execution_count": 75,
     "metadata": {},
     "output_type": "execute_result"
    }
   ],
   "source": [
    "class Solution(object):\n",
    "    def countAndSay(self, n):\n",
    "        \"\"\"\n",
    "        :type n: int\n",
    "        :rtype: str\n",
    "        \"\"\"\n",
    "        if n == 1:\n",
    "            return '1'\n",
    "        else:\n",
    "            count = '11'\n",
    "            say = ''\n",
    "            lx = 1    # length of the same consequent items\n",
    "\n",
    "            for i in range(2,n):    # loop n\n",
    "                lc = len(count)\n",
    "                for j in range(1,lc):    # loop count\n",
    "                    if count[j] == count[j-1]:    # count the same items\n",
    "                        lx += 1\n",
    "                    else:\n",
    "                        say += str(lx)+count[j-1]    # add length and number to 'say'\n",
    "                        lx = 1\n",
    "                say += str(lx)+count[j]\n",
    "                    \n",
    "                count = say\n",
    "                say = ''\n",
    "                lx = 1\n",
    "            return count\n",
    "            \n",
    "            \n",
    "        \n",
    "n = 6\n",
    "Solution().countAndSay(n)"
   ]
  },
  {
   "cell_type": "code",
   "execution_count": null,
   "metadata": {},
   "outputs": [],
   "source": []
  }
 ],
 "metadata": {
  "kernelspec": {
   "display_name": "Python 3",
   "language": "python",
   "name": "python3"
  },
  "language_info": {
   "codemirror_mode": {
    "name": "ipython",
    "version": 3
   },
   "file_extension": ".py",
   "mimetype": "text/x-python",
   "name": "python",
   "nbconvert_exporter": "python",
   "pygments_lexer": "ipython3",
   "version": "3.6.5"
  }
 },
 "nbformat": 4,
 "nbformat_minor": 2
}
